{
 "cells": [
  {
   "cell_type": "markdown",
   "id": "cd48741e",
   "metadata": {},
   "source": [
    "# Introduction:\n",
    "\n",
    "In this lab, we will work with a medical dataset and try to build a model to detect heart diseases with the information given in the dataset. Our model will be a Supervised model as our dataset has a label. Moreover, our label is a binary classification as our model must be able to predict whether a patient has heart disease or not."
   ]
  },
  {
   "cell_type": "markdown",
   "id": "37962bae",
   "metadata": {},
   "source": [
    "## About the data:\n",
    "\n",
    "This is a medical dataset which includes medical records of 918 patients. It also includes 12 features regarding each patient such as their age or sex. The last feature given in the dataset, named HeartDisease, is binary and given in one's and zero's, indicating whether a patient has a heart disease, 1, or does not suffer from a heart disease, 0. we will look more into the data ahead."
   ]
  },
  {
   "cell_type": "markdown",
   "id": "b19ad769",
   "metadata": {},
   "source": [
    "## About the model (Decision tree Algorithm)\n",
    "\n",
    "Decision tree learning is a supervised learning approach used in statistics, data mining and machine learning. In this formalism, a classification or regression decision tree is used as a predictive model to draw conclusions about a set of observations.\n",
    "\n",
    "Tree models where the target variable can take a discrete set of values are called classification trees; in these tree structures, leaves represent class labels and branches represent conjunctions of features that lead to those class labels."
   ]
  },
  {
   "cell_type": "markdown",
   "id": "45658284",
   "metadata": {},
   "source": [
    "## Another feature used in the model (Grid search Algorithm)\n",
    "\n",
    "For the hyperparameter optimization of our model we will use the grid search algorithm. Grid search is a process that searches exhaustively through a manually specified subset of the hyperparameter space of the targeted algorithm."
   ]
  },
  {
   "cell_type": "markdown",
   "id": "b0626caa",
   "metadata": {},
   "source": [
    "# Importing the libraries\n",
    "\n",
    "The first thing that we need to do is to import all the libraries necessary for our work in this lab."
   ]
  },
  {
   "cell_type": "code",
   "execution_count": 50,
   "id": "4722a9d8",
   "metadata": {},
   "outputs": [],
   "source": [
    "import numpy as np\n",
    "import pandas as pd\n",
    "import matplotlib.pyplot as plt\n",
    "import seaborn as sb\n",
    "from sklearn.preprocessing import minmax_scale\n",
    "import itertools\n",
    "import warnings\n",
    "warnings.filterwarnings(\"ignore\")\n",
    "from sklearn.tree import DecisionTreeClassifier\n",
    "from sklearn.model_selection import train_test_split\n",
    "from sklearn.metrics import accuracy_score, recall_score, precision_score, f1_score, confusion_matrix, classification_report\n",
    "from sklearn.model_selection import cross_val_predict, cross_val_score\n",
    "from sklearn.model_selection import GridSearchCV"
   ]
  },
  {
   "cell_type": "markdown",
   "id": "f64e757e",
   "metadata": {},
   "source": [
    "# Calling the data\n",
    "\n",
    "The data is stored in my system locally so I will just call the data from my hard drive."
   ]
  },
  {
   "cell_type": "code",
   "execution_count": 28,
   "id": "63a0107b",
   "metadata": {},
   "outputs": [
    {
     "data": {
      "text/html": [
       "<div>\n",
       "<style scoped>\n",
       "    .dataframe tbody tr th:only-of-type {\n",
       "        vertical-align: middle;\n",
       "    }\n",
       "\n",
       "    .dataframe tbody tr th {\n",
       "        vertical-align: top;\n",
       "    }\n",
       "\n",
       "    .dataframe thead th {\n",
       "        text-align: right;\n",
       "    }\n",
       "</style>\n",
       "<table border=\"1\" class=\"dataframe\">\n",
       "  <thead>\n",
       "    <tr style=\"text-align: right;\">\n",
       "      <th></th>\n",
       "      <th>Age</th>\n",
       "      <th>Sex</th>\n",
       "      <th>ChestPainType</th>\n",
       "      <th>RestingBP</th>\n",
       "      <th>Cholesterol</th>\n",
       "      <th>FastingBS</th>\n",
       "      <th>RestingECG</th>\n",
       "      <th>MaxHR</th>\n",
       "      <th>ExerciseAngina</th>\n",
       "      <th>Oldpeak</th>\n",
       "      <th>ST_Slope</th>\n",
       "      <th>HeartDisease</th>\n",
       "    </tr>\n",
       "  </thead>\n",
       "  <tbody>\n",
       "    <tr>\n",
       "      <th>0</th>\n",
       "      <td>40</td>\n",
       "      <td>M</td>\n",
       "      <td>ATA</td>\n",
       "      <td>140</td>\n",
       "      <td>289</td>\n",
       "      <td>0</td>\n",
       "      <td>Normal</td>\n",
       "      <td>172</td>\n",
       "      <td>N</td>\n",
       "      <td>0.0</td>\n",
       "      <td>Up</td>\n",
       "      <td>0</td>\n",
       "    </tr>\n",
       "    <tr>\n",
       "      <th>1</th>\n",
       "      <td>49</td>\n",
       "      <td>F</td>\n",
       "      <td>NAP</td>\n",
       "      <td>160</td>\n",
       "      <td>180</td>\n",
       "      <td>0</td>\n",
       "      <td>Normal</td>\n",
       "      <td>156</td>\n",
       "      <td>N</td>\n",
       "      <td>1.0</td>\n",
       "      <td>Flat</td>\n",
       "      <td>1</td>\n",
       "    </tr>\n",
       "    <tr>\n",
       "      <th>2</th>\n",
       "      <td>37</td>\n",
       "      <td>M</td>\n",
       "      <td>ATA</td>\n",
       "      <td>130</td>\n",
       "      <td>283</td>\n",
       "      <td>0</td>\n",
       "      <td>ST</td>\n",
       "      <td>98</td>\n",
       "      <td>N</td>\n",
       "      <td>0.0</td>\n",
       "      <td>Up</td>\n",
       "      <td>0</td>\n",
       "    </tr>\n",
       "    <tr>\n",
       "      <th>3</th>\n",
       "      <td>48</td>\n",
       "      <td>F</td>\n",
       "      <td>ASY</td>\n",
       "      <td>138</td>\n",
       "      <td>214</td>\n",
       "      <td>0</td>\n",
       "      <td>Normal</td>\n",
       "      <td>108</td>\n",
       "      <td>Y</td>\n",
       "      <td>1.5</td>\n",
       "      <td>Flat</td>\n",
       "      <td>1</td>\n",
       "    </tr>\n",
       "    <tr>\n",
       "      <th>4</th>\n",
       "      <td>54</td>\n",
       "      <td>M</td>\n",
       "      <td>NAP</td>\n",
       "      <td>150</td>\n",
       "      <td>195</td>\n",
       "      <td>0</td>\n",
       "      <td>Normal</td>\n",
       "      <td>122</td>\n",
       "      <td>N</td>\n",
       "      <td>0.0</td>\n",
       "      <td>Up</td>\n",
       "      <td>0</td>\n",
       "    </tr>\n",
       "  </tbody>\n",
       "</table>\n",
       "</div>"
      ],
      "text/plain": [
       "   Age Sex ChestPainType  RestingBP  Cholesterol  FastingBS RestingECG  MaxHR  \\\n",
       "0   40   M           ATA        140          289          0     Normal    172   \n",
       "1   49   F           NAP        160          180          0     Normal    156   \n",
       "2   37   M           ATA        130          283          0         ST     98   \n",
       "3   48   F           ASY        138          214          0     Normal    108   \n",
       "4   54   M           NAP        150          195          0     Normal    122   \n",
       "\n",
       "  ExerciseAngina  Oldpeak ST_Slope  HeartDisease  \n",
       "0              N      0.0       Up             0  \n",
       "1              N      1.0     Flat             1  \n",
       "2              N      0.0       Up             0  \n",
       "3              Y      1.5     Flat             1  \n",
       "4              N      0.0       Up             0  "
      ]
     },
     "execution_count": 28,
     "metadata": {},
     "output_type": "execute_result"
    }
   ],
   "source": [
    "df=pd.read_csv(\"E:/Reza/New folder/Python/Datasets/heart.CSV\")\n",
    "df.head()"
   ]
  },
  {
   "cell_type": "markdown",
   "id": "fd2cd0a3",
   "metadata": {},
   "source": [
    "# Data Cleaning\n",
    "\n",
    "Before building our model, we need to look into our data carefully to see if there are any modifications that we can do to help build a better model. These modifications could be data cleaning, feature selection, feature extraction, data normalization and.... Here, there is an issue with the data in that it is filled with non numeric data which cannot be processed by the model. What I will now do is to turn these non-numeric data to numeric data:"
   ]
  },
  {
   "cell_type": "code",
   "execution_count": 11,
   "id": "6ee9686f",
   "metadata": {},
   "outputs": [
    {
     "data": {
      "text/plain": [
       "Age                 int64\n",
       "Sex                object\n",
       "ChestPainType      object\n",
       "RestingBP           int64\n",
       "Cholesterol         int64\n",
       "FastingBS           int64\n",
       "RestingECG         object\n",
       "MaxHR               int64\n",
       "ExerciseAngina     object\n",
       "Oldpeak           float64\n",
       "ST_Slope           object\n",
       "HeartDisease        int64\n",
       "dtype: object"
      ]
     },
     "execution_count": 11,
     "metadata": {},
     "output_type": "execute_result"
    }
   ],
   "source": [
    "df.dtypes\n",
    "#we see that features such as sex or ChestPainType are not integer or float and thus cannot be processed by the computer."
   ]
  },
  {
   "cell_type": "code",
   "execution_count": 29,
   "id": "3b9ea368",
   "metadata": {},
   "outputs": [],
   "source": [
    "#Good news is the they are all part of category and we can turn those into numbers like below:\n",
    "df[\"ST_Slope\"][df[\"ST_Slope\"]=='Flat']=2\n",
    "df[\"ST_Slope\"][df[\"ST_Slope\"]=='Up']=0\n",
    "df[\"ST_Slope\"][df[\"ST_Slope\"]=='Down']=1\n",
    "df[\"Sex\"][df[\"Sex\"]=='M']=0\n",
    "df[\"Sex\"][df[\"Sex\"]=='F']=1\n",
    "df[\"ChestPainType\"][df[\"ChestPainType\"]=='ASY']=3\n",
    "df[\"ChestPainType\"][df[\"ChestPainType\"]=='NAP']=1\n",
    "df[\"ChestPainType\"][df[\"ChestPainType\"]=='ATA']=0\n",
    "df[\"ChestPainType\"][df[\"ChestPainType\"]=='TA']=2\n",
    "df[\"RestingECG\"][df[\"RestingECG\"]=='LVH']=0\n",
    "df[\"RestingECG\"][df[\"RestingECG\"]=='Normal']=1\n",
    "df[\"RestingECG\"][df[\"RestingECG\"]=='ST']=0\n",
    "df[\"ExerciseAngina\"][df[\"ExerciseAngina\"]=='N']=0\n",
    "df[\"ExerciseAngina\"][df[\"ExerciseAngina\"]=='Y']=1"
   ]
  },
  {
   "cell_type": "code",
   "execution_count": 14,
   "id": "f2ec445e",
   "metadata": {},
   "outputs": [
    {
     "data": {
      "text/plain": [
       "Age                 int64\n",
       "Sex                object\n",
       "ChestPainType      object\n",
       "RestingBP           int64\n",
       "Cholesterol         int64\n",
       "FastingBS           int64\n",
       "RestingECG         object\n",
       "MaxHR               int64\n",
       "ExerciseAngina     object\n",
       "Oldpeak           float64\n",
       "ST_Slope           object\n",
       "HeartDisease        int64\n",
       "dtype: object"
      ]
     },
     "execution_count": 14,
     "metadata": {},
     "output_type": "execute_result"
    }
   ],
   "source": [
    "#After turning them into numeric value, the computer still views them as object rather than an Integer:\n",
    "df.dtypes"
   ]
  },
  {
   "cell_type": "code",
   "execution_count": 30,
   "id": "4b6095a0",
   "metadata": {},
   "outputs": [
    {
     "data": {
      "text/plain": [
       "Age                 int64\n",
       "Sex                 int32\n",
       "ChestPainType       int32\n",
       "RestingBP           int64\n",
       "Cholesterol         int64\n",
       "FastingBS           int64\n",
       "RestingECG          int32\n",
       "MaxHR               int64\n",
       "ExerciseAngina      int32\n",
       "Oldpeak           float64\n",
       "ST_Slope            int32\n",
       "HeartDisease        int64\n",
       "dtype: object"
      ]
     },
     "execution_count": 30,
     "metadata": {},
     "output_type": "execute_result"
    }
   ],
   "source": [
    "#So now the only thing we must do is to change the numbers from object into integer:\n",
    "df['Sex'] = df['Sex'].astype('int')\n",
    "df['ChestPainType'] = df['ChestPainType'].astype('int')\n",
    "df['RestingECG'] = df['RestingECG'].astype('int')\n",
    "df['ExerciseAngina'] = df['ExerciseAngina'].astype('int')\n",
    "df['ST_Slope'] = df['ST_Slope'].astype('int')\n",
    "df.dtypes"
   ]
  },
  {
   "cell_type": "markdown",
   "id": "0c30948e",
   "metadata": {},
   "source": [
    "## Checking for missing value\n",
    "\n",
    "We should also check and see if our data contains any missing value (null)"
   ]
  },
  {
   "cell_type": "code",
   "execution_count": 16,
   "id": "78a1efbd",
   "metadata": {},
   "outputs": [
    {
     "data": {
      "text/plain": [
       "Age               0\n",
       "Sex               0\n",
       "ChestPainType     0\n",
       "RestingBP         0\n",
       "Cholesterol       0\n",
       "FastingBS         0\n",
       "RestingECG        0\n",
       "MaxHR             0\n",
       "ExerciseAngina    0\n",
       "Oldpeak           0\n",
       "ST_Slope          0\n",
       "HeartDisease      0\n",
       "dtype: int64"
      ]
     },
     "execution_count": 16,
     "metadata": {},
     "output_type": "execute_result"
    }
   ],
   "source": [
    "df.isnull().sum()\n",
    "#We see that we have no missing value in our data"
   ]
  },
  {
   "cell_type": "markdown",
   "id": "f88dd9e2",
   "metadata": {},
   "source": [
    "# Data Analysis & Data Visualization\n",
    "\n",
    "Before building the model we will look further into the data to build a good intuition regarding the data. We will also use data visualization tools to help us in building our intuition."
   ]
  },
  {
   "cell_type": "code",
   "execution_count": 19,
   "id": "22a8c018",
   "metadata": {},
   "outputs": [
    {
     "data": {
      "text/html": [
       "<div>\n",
       "<style scoped>\n",
       "    .dataframe tbody tr th:only-of-type {\n",
       "        vertical-align: middle;\n",
       "    }\n",
       "\n",
       "    .dataframe tbody tr th {\n",
       "        vertical-align: top;\n",
       "    }\n",
       "\n",
       "    .dataframe thead th {\n",
       "        text-align: right;\n",
       "    }\n",
       "</style>\n",
       "<table border=\"1\" class=\"dataframe\">\n",
       "  <thead>\n",
       "    <tr style=\"text-align: right;\">\n",
       "      <th></th>\n",
       "      <th>Age</th>\n",
       "      <th>Sex</th>\n",
       "      <th>ChestPainType</th>\n",
       "      <th>RestingBP</th>\n",
       "      <th>Cholesterol</th>\n",
       "      <th>FastingBS</th>\n",
       "      <th>RestingECG</th>\n",
       "      <th>MaxHR</th>\n",
       "      <th>ExerciseAngina</th>\n",
       "      <th>Oldpeak</th>\n",
       "      <th>ST_Slope</th>\n",
       "      <th>HeartDisease</th>\n",
       "    </tr>\n",
       "  </thead>\n",
       "  <tbody>\n",
       "    <tr>\n",
       "      <th>count</th>\n",
       "      <td>918.000000</td>\n",
       "      <td>918.000000</td>\n",
       "      <td>918.000000</td>\n",
       "      <td>918.000000</td>\n",
       "      <td>918.000000</td>\n",
       "      <td>918.000000</td>\n",
       "      <td>918.000000</td>\n",
       "      <td>918.000000</td>\n",
       "      <td>918.000000</td>\n",
       "      <td>918.000000</td>\n",
       "      <td>918.000000</td>\n",
       "      <td>918.000000</td>\n",
       "    </tr>\n",
       "    <tr>\n",
       "      <th>mean</th>\n",
       "      <td>53.510893</td>\n",
       "      <td>0.210240</td>\n",
       "      <td>1.942266</td>\n",
       "      <td>132.396514</td>\n",
       "      <td>198.799564</td>\n",
       "      <td>0.233115</td>\n",
       "      <td>0.601307</td>\n",
       "      <td>136.809368</td>\n",
       "      <td>0.404139</td>\n",
       "      <td>0.887364</td>\n",
       "      <td>1.070806</td>\n",
       "      <td>0.553377</td>\n",
       "    </tr>\n",
       "    <tr>\n",
       "      <th>std</th>\n",
       "      <td>9.432617</td>\n",
       "      <td>0.407701</td>\n",
       "      <td>1.230271</td>\n",
       "      <td>18.514154</td>\n",
       "      <td>109.384145</td>\n",
       "      <td>0.423046</td>\n",
       "      <td>0.489896</td>\n",
       "      <td>25.460334</td>\n",
       "      <td>0.490992</td>\n",
       "      <td>1.066570</td>\n",
       "      <td>0.963000</td>\n",
       "      <td>0.497414</td>\n",
       "    </tr>\n",
       "    <tr>\n",
       "      <th>min</th>\n",
       "      <td>28.000000</td>\n",
       "      <td>0.000000</td>\n",
       "      <td>0.000000</td>\n",
       "      <td>0.000000</td>\n",
       "      <td>0.000000</td>\n",
       "      <td>0.000000</td>\n",
       "      <td>0.000000</td>\n",
       "      <td>60.000000</td>\n",
       "      <td>0.000000</td>\n",
       "      <td>-2.600000</td>\n",
       "      <td>0.000000</td>\n",
       "      <td>0.000000</td>\n",
       "    </tr>\n",
       "    <tr>\n",
       "      <th>25%</th>\n",
       "      <td>47.000000</td>\n",
       "      <td>0.000000</td>\n",
       "      <td>1.000000</td>\n",
       "      <td>120.000000</td>\n",
       "      <td>173.250000</td>\n",
       "      <td>0.000000</td>\n",
       "      <td>0.000000</td>\n",
       "      <td>120.000000</td>\n",
       "      <td>0.000000</td>\n",
       "      <td>0.000000</td>\n",
       "      <td>0.000000</td>\n",
       "      <td>0.000000</td>\n",
       "    </tr>\n",
       "    <tr>\n",
       "      <th>50%</th>\n",
       "      <td>54.000000</td>\n",
       "      <td>0.000000</td>\n",
       "      <td>3.000000</td>\n",
       "      <td>130.000000</td>\n",
       "      <td>223.000000</td>\n",
       "      <td>0.000000</td>\n",
       "      <td>1.000000</td>\n",
       "      <td>138.000000</td>\n",
       "      <td>0.000000</td>\n",
       "      <td>0.600000</td>\n",
       "      <td>2.000000</td>\n",
       "      <td>1.000000</td>\n",
       "    </tr>\n",
       "    <tr>\n",
       "      <th>75%</th>\n",
       "      <td>60.000000</td>\n",
       "      <td>0.000000</td>\n",
       "      <td>3.000000</td>\n",
       "      <td>140.000000</td>\n",
       "      <td>267.000000</td>\n",
       "      <td>0.000000</td>\n",
       "      <td>1.000000</td>\n",
       "      <td>156.000000</td>\n",
       "      <td>1.000000</td>\n",
       "      <td>1.500000</td>\n",
       "      <td>2.000000</td>\n",
       "      <td>1.000000</td>\n",
       "    </tr>\n",
       "    <tr>\n",
       "      <th>max</th>\n",
       "      <td>77.000000</td>\n",
       "      <td>1.000000</td>\n",
       "      <td>3.000000</td>\n",
       "      <td>200.000000</td>\n",
       "      <td>603.000000</td>\n",
       "      <td>1.000000</td>\n",
       "      <td>1.000000</td>\n",
       "      <td>202.000000</td>\n",
       "      <td>1.000000</td>\n",
       "      <td>6.200000</td>\n",
       "      <td>2.000000</td>\n",
       "      <td>1.000000</td>\n",
       "    </tr>\n",
       "  </tbody>\n",
       "</table>\n",
       "</div>"
      ],
      "text/plain": [
       "              Age         Sex  ChestPainType   RestingBP  Cholesterol  \\\n",
       "count  918.000000  918.000000     918.000000  918.000000   918.000000   \n",
       "mean    53.510893    0.210240       1.942266  132.396514   198.799564   \n",
       "std      9.432617    0.407701       1.230271   18.514154   109.384145   \n",
       "min     28.000000    0.000000       0.000000    0.000000     0.000000   \n",
       "25%     47.000000    0.000000       1.000000  120.000000   173.250000   \n",
       "50%     54.000000    0.000000       3.000000  130.000000   223.000000   \n",
       "75%     60.000000    0.000000       3.000000  140.000000   267.000000   \n",
       "max     77.000000    1.000000       3.000000  200.000000   603.000000   \n",
       "\n",
       "        FastingBS  RestingECG       MaxHR  ExerciseAngina     Oldpeak  \\\n",
       "count  918.000000  918.000000  918.000000      918.000000  918.000000   \n",
       "mean     0.233115    0.601307  136.809368        0.404139    0.887364   \n",
       "std      0.423046    0.489896   25.460334        0.490992    1.066570   \n",
       "min      0.000000    0.000000   60.000000        0.000000   -2.600000   \n",
       "25%      0.000000    0.000000  120.000000        0.000000    0.000000   \n",
       "50%      0.000000    1.000000  138.000000        0.000000    0.600000   \n",
       "75%      0.000000    1.000000  156.000000        1.000000    1.500000   \n",
       "max      1.000000    1.000000  202.000000        1.000000    6.200000   \n",
       "\n",
       "         ST_Slope  HeartDisease  \n",
       "count  918.000000    918.000000  \n",
       "mean     1.070806      0.553377  \n",
       "std      0.963000      0.497414  \n",
       "min      0.000000      0.000000  \n",
       "25%      0.000000      0.000000  \n",
       "50%      2.000000      1.000000  \n",
       "75%      2.000000      1.000000  \n",
       "max      2.000000      1.000000  "
      ]
     },
     "execution_count": 19,
     "metadata": {},
     "output_type": "execute_result"
    }
   ],
   "source": [
    "df.describe()\n",
    "#This code is very useful and will give an overview of the data and where the most data points for each feature is\n",
    "#For example we see that the age for most our 918 patients fall in the range of 47 to 60"
   ]
  },
  {
   "cell_type": "code",
   "execution_count": 20,
   "id": "62150cfc",
   "metadata": {},
   "outputs": [
    {
     "data": {
      "image/png": "[encoded data removed]",
      "text/plain": [
       "<Figure size 640x480 with 1 Axes>"
      ]
     },
     "metadata": {},
     "output_type": "display_data"
    }
   ],
   "source": [
    "sb.violinplot(y=df['Age'])\n",
    "plt.show()\n",
    "#This data visualization also confirms what we mentioned above, this violinplot show the density for our Age feature."
   ]
  },
  {
   "cell_type": "code",
   "execution_count": 23,
   "id": "28ca2ec5",
   "metadata": {},
   "outputs": [
    {
     "data": {
      "text/html": [
       "<div>\n",
       "<style scoped>\n",
       "    .dataframe tbody tr th:only-of-type {\n",
       "        vertical-align: middle;\n",
       "    }\n",
       "\n",
       "    .dataframe tbody tr th {\n",
       "        vertical-align: top;\n",
       "    }\n",
       "\n",
       "    .dataframe thead th {\n",
       "        text-align: right;\n",
       "    }\n",
       "</style>\n",
       "<table border=\"1\" class=\"dataframe\">\n",
       "  <thead>\n",
       "    <tr style=\"text-align: right;\">\n",
       "      <th></th>\n",
       "      <th>Age</th>\n",
       "      <th>Sex</th>\n",
       "      <th>ChestPainType</th>\n",
       "      <th>RestingBP</th>\n",
       "      <th>Cholesterol</th>\n",
       "      <th>FastingBS</th>\n",
       "      <th>RestingECG</th>\n",
       "      <th>MaxHR</th>\n",
       "      <th>ExerciseAngina</th>\n",
       "      <th>Oldpeak</th>\n",
       "      <th>ST_Slope</th>\n",
       "      <th>HeartDisease</th>\n",
       "    </tr>\n",
       "  </thead>\n",
       "  <tbody>\n",
       "    <tr>\n",
       "      <th>Age</th>\n",
       "      <td>1.000000</td>\n",
       "      <td>-0.055750</td>\n",
       "      <td>0.210128</td>\n",
       "      <td>0.254399</td>\n",
       "      <td>-0.095282</td>\n",
       "      <td>0.198039</td>\n",
       "      <td>-0.230566</td>\n",
       "      <td>-0.382045</td>\n",
       "      <td>0.215793</td>\n",
       "      <td>0.258612</td>\n",
       "      <td>0.229156</td>\n",
       "      <td>0.282039</td>\n",
       "    </tr>\n",
       "    <tr>\n",
       "      <th>Sex</th>\n",
       "      <td>-0.055750</td>\n",
       "      <td>1.000000</td>\n",
       "      <td>-0.199711</td>\n",
       "      <td>-0.005133</td>\n",
       "      <td>0.200092</td>\n",
       "      <td>-0.120076</td>\n",
       "      <td>0.010634</td>\n",
       "      <td>0.189186</td>\n",
       "      <td>-0.190664</td>\n",
       "      <td>-0.105734</td>\n",
       "      <td>-0.137949</td>\n",
       "      <td>-0.305445</td>\n",
       "    </tr>\n",
       "    <tr>\n",
       "      <th>ChestPainType</th>\n",
       "      <td>0.210128</td>\n",
       "      <td>-0.199711</td>\n",
       "      <td>1.000000</td>\n",
       "      <td>0.063102</td>\n",
       "      <td>-0.142636</td>\n",
       "      <td>0.155795</td>\n",
       "      <td>-0.096133</td>\n",
       "      <td>-0.350695</td>\n",
       "      <td>0.421398</td>\n",
       "      <td>0.316083</td>\n",
       "      <td>0.385444</td>\n",
       "      <td>0.536974</td>\n",
       "    </tr>\n",
       "    <tr>\n",
       "      <th>RestingBP</th>\n",
       "      <td>0.254399</td>\n",
       "      <td>-0.005133</td>\n",
       "      <td>0.063102</td>\n",
       "      <td>1.000000</td>\n",
       "      <td>0.100893</td>\n",
       "      <td>0.070193</td>\n",
       "      <td>-0.116851</td>\n",
       "      <td>-0.112135</td>\n",
       "      <td>0.155101</td>\n",
       "      <td>0.164803</td>\n",
       "      <td>0.100997</td>\n",
       "      <td>0.107589</td>\n",
       "    </tr>\n",
       "    <tr>\n",
       "      <th>Cholesterol</th>\n",
       "      <td>-0.095282</td>\n",
       "      <td>0.200092</td>\n",
       "      <td>-0.142636</td>\n",
       "      <td>0.100893</td>\n",
       "      <td>1.000000</td>\n",
       "      <td>-0.260974</td>\n",
       "      <td>-0.038470</td>\n",
       "      <td>0.235792</td>\n",
       "      <td>-0.034166</td>\n",
       "      <td>0.050148</td>\n",
       "      <td>-0.074839</td>\n",
       "      <td>-0.232741</td>\n",
       "    </tr>\n",
       "    <tr>\n",
       "      <th>FastingBS</th>\n",
       "      <td>0.198039</td>\n",
       "      <td>-0.120076</td>\n",
       "      <td>0.155795</td>\n",
       "      <td>0.070193</td>\n",
       "      <td>-0.260974</td>\n",
       "      <td>1.000000</td>\n",
       "      <td>-0.093028</td>\n",
       "      <td>-0.131438</td>\n",
       "      <td>0.060451</td>\n",
       "      <td>0.052698</td>\n",
       "      <td>0.138786</td>\n",
       "      <td>0.267291</td>\n",
       "    </tr>\n",
       "    <tr>\n",
       "      <th>RestingECG</th>\n",
       "      <td>-0.230566</td>\n",
       "      <td>0.010634</td>\n",
       "      <td>-0.096133</td>\n",
       "      <td>-0.116851</td>\n",
       "      <td>-0.038470</td>\n",
       "      <td>-0.093028</td>\n",
       "      <td>1.000000</td>\n",
       "      <td>0.023801</td>\n",
       "      <td>-0.072924</td>\n",
       "      <td>-0.116719</td>\n",
       "      <td>-0.064919</td>\n",
       "      <td>-0.091580</td>\n",
       "    </tr>\n",
       "    <tr>\n",
       "      <th>MaxHR</th>\n",
       "      <td>-0.382045</td>\n",
       "      <td>0.189186</td>\n",
       "      <td>-0.350695</td>\n",
       "      <td>-0.112135</td>\n",
       "      <td>0.235792</td>\n",
       "      <td>-0.131438</td>\n",
       "      <td>0.023801</td>\n",
       "      <td>1.000000</td>\n",
       "      <td>-0.370425</td>\n",
       "      <td>-0.160691</td>\n",
       "      <td>-0.375195</td>\n",
       "      <td>-0.400421</td>\n",
       "    </tr>\n",
       "    <tr>\n",
       "      <th>ExerciseAngina</th>\n",
       "      <td>0.215793</td>\n",
       "      <td>-0.190664</td>\n",
       "      <td>0.421398</td>\n",
       "      <td>0.155101</td>\n",
       "      <td>-0.034166</td>\n",
       "      <td>0.060451</td>\n",
       "      <td>-0.072924</td>\n",
       "      <td>-0.370425</td>\n",
       "      <td>1.000000</td>\n",
       "      <td>0.408752</td>\n",
       "      <td>0.432978</td>\n",
       "      <td>0.494282</td>\n",
       "    </tr>\n",
       "    <tr>\n",
       "      <th>Oldpeak</th>\n",
       "      <td>0.258612</td>\n",
       "      <td>-0.105734</td>\n",
       "      <td>0.316083</td>\n",
       "      <td>0.164803</td>\n",
       "      <td>0.050148</td>\n",
       "      <td>0.052698</td>\n",
       "      <td>-0.116719</td>\n",
       "      <td>-0.160691</td>\n",
       "      <td>0.408752</td>\n",
       "      <td>1.000000</td>\n",
       "      <td>0.378955</td>\n",
       "      <td>0.403951</td>\n",
       "    </tr>\n",
       "    <tr>\n",
       "      <th>ST_Slope</th>\n",
       "      <td>0.229156</td>\n",
       "      <td>-0.137949</td>\n",
       "      <td>0.385444</td>\n",
       "      <td>0.100997</td>\n",
       "      <td>-0.074839</td>\n",
       "      <td>0.138786</td>\n",
       "      <td>-0.064919</td>\n",
       "      <td>-0.375195</td>\n",
       "      <td>0.432978</td>\n",
       "      <td>0.378955</td>\n",
       "      <td>1.000000</td>\n",
       "      <td>0.607921</td>\n",
       "    </tr>\n",
       "    <tr>\n",
       "      <th>HeartDisease</th>\n",
       "      <td>0.282039</td>\n",
       "      <td>-0.305445</td>\n",
       "      <td>0.536974</td>\n",
       "      <td>0.107589</td>\n",
       "      <td>-0.232741</td>\n",
       "      <td>0.267291</td>\n",
       "      <td>-0.091580</td>\n",
       "      <td>-0.400421</td>\n",
       "      <td>0.494282</td>\n",
       "      <td>0.403951</td>\n",
       "      <td>0.607921</td>\n",
       "      <td>1.000000</td>\n",
       "    </tr>\n",
       "  </tbody>\n",
       "</table>\n",
       "</div>"
      ],
      "text/plain": [
       "                     Age       Sex  ChestPainType  RestingBP  Cholesterol  \\\n",
       "Age             1.000000 -0.055750       0.210128   0.254399    -0.095282   \n",
       "Sex            -0.055750  1.000000      -0.199711  -0.005133     0.200092   \n",
       "ChestPainType   0.210128 -0.199711       1.000000   0.063102    -0.142636   \n",
       "RestingBP       0.254399 -0.005133       0.063102   1.000000     0.100893   \n",
       "Cholesterol    -0.095282  0.200092      -0.142636   0.100893     1.000000   \n",
       "FastingBS       0.198039 -0.120076       0.155795   0.070193    -0.260974   \n",
       "RestingECG     -0.230566  0.010634      -0.096133  -0.116851    -0.038470   \n",
       "MaxHR          -0.382045  0.189186      -0.350695  -0.112135     0.235792   \n",
       "ExerciseAngina  0.215793 -0.190664       0.421398   0.155101    -0.034166   \n",
       "Oldpeak         0.258612 -0.105734       0.316083   0.164803     0.050148   \n",
       "ST_Slope        0.229156 -0.137949       0.385444   0.100997    -0.074839   \n",
       "HeartDisease    0.282039 -0.305445       0.536974   0.107589    -0.232741   \n",
       "\n",
       "                FastingBS  RestingECG     MaxHR  ExerciseAngina   Oldpeak  \\\n",
       "Age              0.198039   -0.230566 -0.382045        0.215793  0.258612   \n",
       "Sex             -0.120076    0.010634  0.189186       -0.190664 -0.105734   \n",
       "ChestPainType    0.155795   -0.096133 -0.350695        0.421398  0.316083   \n",
       "RestingBP        0.070193   -0.116851 -0.112135        0.155101  0.164803   \n",
       "Cholesterol     -0.260974   -0.038470  0.235792       -0.034166  0.050148   \n",
       "FastingBS        1.000000   -0.093028 -0.131438        0.060451  0.052698   \n",
       "RestingECG      -0.093028    1.000000  0.023801       -0.072924 -0.116719   \n",
       "MaxHR           -0.131438    0.023801  1.000000       -0.370425 -0.160691   \n",
       "ExerciseAngina   0.060451   -0.072924 -0.370425        1.000000  0.408752   \n",
       "Oldpeak          0.052698   -0.116719 -0.160691        0.408752  1.000000   \n",
       "ST_Slope         0.138786   -0.064919 -0.375195        0.432978  0.378955   \n",
       "HeartDisease     0.267291   -0.091580 -0.400421        0.494282  0.403951   \n",
       "\n",
       "                ST_Slope  HeartDisease  \n",
       "Age             0.229156      0.282039  \n",
       "Sex            -0.137949     -0.305445  \n",
       "ChestPainType   0.385444      0.536974  \n",
       "RestingBP       0.100997      0.107589  \n",
       "Cholesterol    -0.074839     -0.232741  \n",
       "FastingBS       0.138786      0.267291  \n",
       "RestingECG     -0.064919     -0.091580  \n",
       "MaxHR          -0.375195     -0.400421  \n",
       "ExerciseAngina  0.432978      0.494282  \n",
       "Oldpeak         0.378955      0.403951  \n",
       "ST_Slope        1.000000      0.607921  \n",
       "HeartDisease    0.607921      1.000000  "
      ]
     },
     "execution_count": 23,
     "metadata": {},
     "output_type": "execute_result"
    }
   ],
   "source": [
    "corr=df.corr()\n",
    "corr\n",
    "#this code is also another very useful and helpful code as it shows the corelation between features and that which feature is effected by which feture to what extend\n",
    "#For example if we look at the last section of the table (\"HeartDisease\"), we see that 'ST_Slope' & 'ChestPainType' respectively features have the most effect on someone having heart disaese or not (respectively 60% and 53%)"
   ]
  },
  {
   "cell_type": "code",
   "execution_count": 24,
   "id": "9c749d1d",
   "metadata": {},
   "outputs": [
    {
     "data": {
      "text/plain": [
       "<Axes: >"
      ]
     },
     "execution_count": 24,
     "metadata": {},
     "output_type": "execute_result"
    },
    {
     "data": {
      "image/png": "[encoded data removed]",
      "text/plain": [
       "<Figure size 640x480 with 2 Axes>"
      ]
     },
     "metadata": {},
     "output_type": "display_data"
    }
   ],
   "source": [
    "#Again, we can confirm our findings above with a data visualization\n",
    "#Here we will use the same corelation table from above but in a visualization:\n",
    "sb.heatmap(corr)\n",
    "#Here again our findings from above is confirmed as 'ST_Slope' &'ChestPainType' respectively have the brightest color in the \"HeartDisease\" section (meaning they have the most corealtion)"
   ]
  },
  {
   "cell_type": "markdown",
   "id": "44a6e2c9",
   "metadata": {},
   "source": [
    "# Data Normalization\n",
    "\n",
    "One more step before building the model is needed and that is data normalization. Data normalization is the practice of organizing data entries to ensure they appear similar across all fields and records. It usually helps one to build a better model as the computations will be done more smoothly."
   ]
  },
  {
   "cell_type": "markdown",
   "id": "f96d15e4",
   "metadata": {},
   "source": [
    "## MinMaxScaler\n",
    "\n",
    "MinMaxScaler is a popular data normalization that scales the data to a fixed range, typically between 0 and 1."
   ]
  },
  {
   "cell_type": "code",
   "execution_count": 32,
   "id": "5ea6b431",
   "metadata": {},
   "outputs": [
    {
     "data": {
      "text/html": [
       "<div>\n",
       "<style scoped>\n",
       "    .dataframe tbody tr th:only-of-type {\n",
       "        vertical-align: middle;\n",
       "    }\n",
       "\n",
       "    .dataframe tbody tr th {\n",
       "        vertical-align: top;\n",
       "    }\n",
       "\n",
       "    .dataframe thead th {\n",
       "        text-align: right;\n",
       "    }\n",
       "</style>\n",
       "<table border=\"1\" class=\"dataframe\">\n",
       "  <thead>\n",
       "    <tr style=\"text-align: right;\">\n",
       "      <th></th>\n",
       "      <th>Age</th>\n",
       "      <th>Sex</th>\n",
       "      <th>ChestPainType</th>\n",
       "      <th>RestingBP</th>\n",
       "      <th>Cholesterol</th>\n",
       "      <th>FastingBS</th>\n",
       "      <th>RestingECG</th>\n",
       "      <th>MaxHR</th>\n",
       "      <th>ExerciseAngina</th>\n",
       "      <th>Oldpeak</th>\n",
       "      <th>ST_Slope</th>\n",
       "      <th>HeartDisease</th>\n",
       "    </tr>\n",
       "  </thead>\n",
       "  <tbody>\n",
       "    <tr>\n",
       "      <th>0</th>\n",
       "      <td>0.244898</td>\n",
       "      <td>0.0</td>\n",
       "      <td>0.000000</td>\n",
       "      <td>0.70</td>\n",
       "      <td>0.479270</td>\n",
       "      <td>0.0</td>\n",
       "      <td>1.0</td>\n",
       "      <td>0.788732</td>\n",
       "      <td>0.0</td>\n",
       "      <td>0.295455</td>\n",
       "      <td>0.0</td>\n",
       "      <td>0.0</td>\n",
       "    </tr>\n",
       "    <tr>\n",
       "      <th>1</th>\n",
       "      <td>0.428571</td>\n",
       "      <td>1.0</td>\n",
       "      <td>0.333333</td>\n",
       "      <td>0.80</td>\n",
       "      <td>0.298507</td>\n",
       "      <td>0.0</td>\n",
       "      <td>1.0</td>\n",
       "      <td>0.676056</td>\n",
       "      <td>0.0</td>\n",
       "      <td>0.409091</td>\n",
       "      <td>1.0</td>\n",
       "      <td>1.0</td>\n",
       "    </tr>\n",
       "    <tr>\n",
       "      <th>2</th>\n",
       "      <td>0.183673</td>\n",
       "      <td>0.0</td>\n",
       "      <td>0.000000</td>\n",
       "      <td>0.65</td>\n",
       "      <td>0.469320</td>\n",
       "      <td>0.0</td>\n",
       "      <td>0.0</td>\n",
       "      <td>0.267606</td>\n",
       "      <td>0.0</td>\n",
       "      <td>0.295455</td>\n",
       "      <td>0.0</td>\n",
       "      <td>0.0</td>\n",
       "    </tr>\n",
       "    <tr>\n",
       "      <th>3</th>\n",
       "      <td>0.408163</td>\n",
       "      <td>1.0</td>\n",
       "      <td>1.000000</td>\n",
       "      <td>0.69</td>\n",
       "      <td>0.354892</td>\n",
       "      <td>0.0</td>\n",
       "      <td>1.0</td>\n",
       "      <td>0.338028</td>\n",
       "      <td>1.0</td>\n",
       "      <td>0.465909</td>\n",
       "      <td>1.0</td>\n",
       "      <td>1.0</td>\n",
       "    </tr>\n",
       "    <tr>\n",
       "      <th>4</th>\n",
       "      <td>0.530612</td>\n",
       "      <td>0.0</td>\n",
       "      <td>0.333333</td>\n",
       "      <td>0.75</td>\n",
       "      <td>0.323383</td>\n",
       "      <td>0.0</td>\n",
       "      <td>1.0</td>\n",
       "      <td>0.436620</td>\n",
       "      <td>0.0</td>\n",
       "      <td>0.295455</td>\n",
       "      <td>0.0</td>\n",
       "      <td>0.0</td>\n",
       "    </tr>\n",
       "  </tbody>\n",
       "</table>\n",
       "</div>"
      ],
      "text/plain": [
       "        Age  Sex  ChestPainType  RestingBP  Cholesterol  FastingBS  \\\n",
       "0  0.244898  0.0       0.000000       0.70     0.479270        0.0   \n",
       "1  0.428571  1.0       0.333333       0.80     0.298507        0.0   \n",
       "2  0.183673  0.0       0.000000       0.65     0.469320        0.0   \n",
       "3  0.408163  1.0       1.000000       0.69     0.354892        0.0   \n",
       "4  0.530612  0.0       0.333333       0.75     0.323383        0.0   \n",
       "\n",
       "   RestingECG     MaxHR  ExerciseAngina   Oldpeak  ST_Slope  HeartDisease  \n",
       "0         1.0  0.788732             0.0  0.295455       0.0           0.0  \n",
       "1         1.0  0.676056             0.0  0.409091       1.0           1.0  \n",
       "2         0.0  0.267606             0.0  0.295455       0.0           0.0  \n",
       "3         1.0  0.338028             1.0  0.465909       1.0           1.0  \n",
       "4         1.0  0.436620             0.0  0.295455       0.0           0.0  "
      ]
     },
     "execution_count": 32,
     "metadata": {},
     "output_type": "execute_result"
    }
   ],
   "source": [
    "scale_df=minmax_scale(df, feature_range=(0,1))\n",
    "#After scaling the data, the data will be a combination of raw numbers in ndarray numpy format and no longer in the pandas data frame which we need\n",
    "#So now we will bring those numbers after normalization and put them in our original data frame using the pandas library: \n",
    "df=pd.DataFrame(scale_df , index=df.index, columns=df.columns)\n",
    "df.head()"
   ]
  },
  {
   "cell_type": "markdown",
   "id": "2e070a45",
   "metadata": {},
   "source": [
    "# Model\n",
    "\n",
    "Now, we will build the model. First we will split the data into four parts: X_train(features of the data given to the model to train on and learn from), y_train(given label for the corresponding features in X_train for the computer to train on and learn from), X_test(given features to the computer so the computer would give the labels based on the model and algorithm that it trained on), y_test(the hold-out labels corresponding to the features in the X_test (the real labels for hose records) this is used to test the models accuracy)"
   ]
  },
  {
   "cell_type": "code",
   "execution_count": 34,
   "id": "b39eb625",
   "metadata": {},
   "outputs": [
    {
     "data": {
      "text/plain": [
       "((642, 11), (276, 11), (642,), (276,))"
      ]
     },
     "execution_count": 34,
     "metadata": {},
     "output_type": "execute_result"
    }
   ],
   "source": [
    "#The 'HeartDisease' feature is our label so we drop it from our x section which is only the given features\n",
    "#And our y, which is only the label will be the 'HeartDisease'\n",
    "x=df.drop(['HeartDisease'],axis=1)\n",
    "y=df.HeartDisease\n",
    "\n",
    "#we split the data into the 4 parts mentioned above and use the test size 0.3, meaning that 70% of the data will be trained on and 30% will be used to test our model\n",
    "X_train,X_test,y_train,y_test= train_test_split(x,y, test_size=0.3)\n",
    "#Finally we will use .shape to see shape and size of each part of our data\n",
    "X_train.shape,X_test.shape,y_train.shape,y_test.shape"
   ]
  },
  {
   "cell_type": "code",
   "execution_count": 40,
   "id": "56e700dd",
   "metadata": {},
   "outputs": [
    {
     "data": {
      "text/html": [
       "<style>#sk-container-id-3 {color: black;background-color: white;}#sk-container-id-3 pre{padding: 0;}#sk-container-id-3 div.sk-toggleable {background-color: white;}#sk-container-id-3 label.sk-toggleable__label {cursor: pointer;display: block;width: 100%;margin-bottom: 0;padding: 0.3em;box-sizing: border-box;text-align: center;}#sk-container-id-3 label.sk-toggleable__label-arrow:before {content: \"▸\";float: left;margin-right: 0.25em;color: #696969;}#sk-container-id-3 label.sk-toggleable__label-arrow:hover:before {color: black;}#sk-container-id-3 div.sk-estimator:hover label.sk-toggleable__label-arrow:before {color: black;}#sk-container-id-3 div.sk-toggleable__content {max-height: 0;max-width: 0;overflow: hidden;text-align: left;background-color: #f0f8ff;}#sk-container-id-3 div.sk-toggleable__content pre {margin: 0.2em;color: black;border-radius: 0.25em;background-color: #f0f8ff;}#sk-container-id-3 input.sk-toggleable__control:checked~div.sk-toggleable__content {max-height: 200px;max-width: 100%;overflow: auto;}#sk-container-id-3 input.sk-toggleable__control:checked~label.sk-toggleable__label-arrow:before {content: \"▾\";}#sk-container-id-3 div.sk-estimator input.sk-toggleable__control:checked~label.sk-toggleable__label {background-color: #d4ebff;}#sk-container-id-3 div.sk-label input.sk-toggleable__control:checked~label.sk-toggleable__label {background-color: #d4ebff;}#sk-container-id-3 input.sk-hidden--visually {border: 0;clip: rect(1px 1px 1px 1px);clip: rect(1px, 1px, 1px, 1px);height: 1px;margin: -1px;overflow: hidden;padding: 0;position: absolute;width: 1px;}#sk-container-id-3 div.sk-estimator {font-family: monospace;background-color: #f0f8ff;border: 1px dotted black;border-radius: 0.25em;box-sizing: border-box;margin-bottom: 0.5em;}#sk-container-id-3 div.sk-estimator:hover {background-color: #d4ebff;}#sk-container-id-3 div.sk-parallel-item::after {content: \"\";width: 100%;border-bottom: 1px solid gray;flex-grow: 1;}#sk-container-id-3 div.sk-label:hover label.sk-toggleable__label {background-color: #d4ebff;}#sk-container-id-3 div.sk-serial::before {content: \"\";position: absolute;border-left: 1px solid gray;box-sizing: border-box;top: 0;bottom: 0;left: 50%;z-index: 0;}#sk-container-id-3 div.sk-serial {display: flex;flex-direction: column;align-items: center;background-color: white;padding-right: 0.2em;padding-left: 0.2em;position: relative;}#sk-container-id-3 div.sk-item {position: relative;z-index: 1;}#sk-container-id-3 div.sk-parallel {display: flex;align-items: stretch;justify-content: center;background-color: white;position: relative;}#sk-container-id-3 div.sk-item::before, #sk-container-id-3 div.sk-parallel-item::before {content: \"\";position: absolute;border-left: 1px solid gray;box-sizing: border-box;top: 0;bottom: 0;left: 50%;z-index: -1;}#sk-container-id-3 div.sk-parallel-item {display: flex;flex-direction: column;z-index: 1;position: relative;background-color: white;}#sk-container-id-3 div.sk-parallel-item:first-child::after {align-self: flex-end;width: 50%;}#sk-container-id-3 div.sk-parallel-item:last-child::after {align-self: flex-start;width: 50%;}#sk-container-id-3 div.sk-parallel-item:only-child::after {width: 0;}#sk-container-id-3 div.sk-dashed-wrapped {border: 1px dashed gray;margin: 0 0.4em 0.5em 0.4em;box-sizing: border-box;padding-bottom: 0.4em;background-color: white;}#sk-container-id-3 div.sk-label label {font-family: monospace;font-weight: bold;display: inline-block;line-height: 1.2em;}#sk-container-id-3 div.sk-label-container {text-align: center;}#sk-container-id-3 div.sk-container {/* jupyter's `normalize.less` sets `[hidden] { display: none; }` but bootstrap.min.css set `[hidden] { display: none !important; }` so we also need the `!important` here to be able to override the default hidden behavior on the sphinx rendered scikit-learn.org. See: https://github.com/scikit-learn/scikit-learn/issues/21755 */display: inline-block !important;position: relative;}#sk-container-id-3 div.sk-text-repr-fallback {display: none;}</style><div id=\"sk-container-id-3\" class=\"sk-top-container\"><div class=\"sk-text-repr-fallback\"><pre>GridSearchCV(cv=20, estimator=DecisionTreeClassifier(),\n",
       "             param_grid={&#x27;criterion&#x27;: [&#x27;gini&#x27;, &#x27;entropy&#x27;, &#x27;log_loss&#x27;],\n",
       "                         &#x27;max_depth&#x27;: [4, 6, 8, 12, 15, 20, 35],\n",
       "                         &#x27;min_samples_leaf&#x27;: [2, 3, 4],\n",
       "                         &#x27;min_samples_split&#x27;: [4, 6, 7, 8]},\n",
       "             scoring=&#x27;accuracy&#x27;)</pre><b>In a Jupyter environment, please rerun this cell to show the HTML representation or trust the notebook. <br />On GitHub, the HTML representation is unable to render, please try loading this page with nbviewer.org.</b></div><div class=\"sk-container\" hidden><div class=\"sk-item sk-dashed-wrapped\"><div class=\"sk-label-container\"><div class=\"sk-label sk-toggleable\"><input class=\"sk-toggleable__control sk-hidden--visually\" id=\"sk-estimator-id-5\" type=\"checkbox\" ><label for=\"sk-estimator-id-5\" class=\"sk-toggleable__label sk-toggleable__label-arrow\">GridSearchCV</label><div class=\"sk-toggleable__content\"><pre>GridSearchCV(cv=20, estimator=DecisionTreeClassifier(),\n",
       "             param_grid={&#x27;criterion&#x27;: [&#x27;gini&#x27;, &#x27;entropy&#x27;, &#x27;log_loss&#x27;],\n",
       "                         &#x27;max_depth&#x27;: [4, 6, 8, 12, 15, 20, 35],\n",
       "                         &#x27;min_samples_leaf&#x27;: [2, 3, 4],\n",
       "                         &#x27;min_samples_split&#x27;: [4, 6, 7, 8]},\n",
       "             scoring=&#x27;accuracy&#x27;)</pre></div></div></div><div class=\"sk-parallel\"><div class=\"sk-parallel-item\"><div class=\"sk-item\"><div class=\"sk-label-container\"><div class=\"sk-label sk-toggleable\"><input class=\"sk-toggleable__control sk-hidden--visually\" id=\"sk-estimator-id-6\" type=\"checkbox\" ><label for=\"sk-estimator-id-6\" class=\"sk-toggleable__label sk-toggleable__label-arrow\">estimator: DecisionTreeClassifier</label><div class=\"sk-toggleable__content\"><pre>DecisionTreeClassifier()</pre></div></div></div><div class=\"sk-serial\"><div class=\"sk-item\"><div class=\"sk-estimator sk-toggleable\"><input class=\"sk-toggleable__control sk-hidden--visually\" id=\"sk-estimator-id-7\" type=\"checkbox\" ><label for=\"sk-estimator-id-7\" class=\"sk-toggleable__label sk-toggleable__label-arrow\">DecisionTreeClassifier</label><div class=\"sk-toggleable__content\"><pre>DecisionTreeClassifier()</pre></div></div></div></div></div></div></div></div></div></div>"
      ],
      "text/plain": [
       "GridSearchCV(cv=20, estimator=DecisionTreeClassifier(),\n",
       "             param_grid={'criterion': ['gini', 'entropy', 'log_loss'],\n",
       "                         'max_depth': [4, 6, 8, 12, 15, 20, 35],\n",
       "                         'min_samples_leaf': [2, 3, 4],\n",
       "                         'min_samples_split': [4, 6, 7, 8]},\n",
       "             scoring='accuracy')"
      ]
     },
     "execution_count": 40,
     "metadata": {},
     "output_type": "execute_result"
    }
   ],
   "source": [
    "#First we will call the decision tree model\n",
    "DT= DecisionTreeClassifier()\n",
    "\n",
    "#since we want to use the grid search algorithm with the decision tree model, we will first identify the parameters that we want the grid search algorithm to inspect\n",
    "#the parameters of the model will be wtitten in a dictionary with each parameter mentioned and the options avaliable for each parameter\n",
    "parametr={'criterion':['gini','entropy', 'log_loss'],\n",
    "          'max_depth':[4,6,8,12,15,20,35],\n",
    "          'min_samples_split':[4,6,7,8],\n",
    "          'min_samples_leaf':[2,3,4]}\n",
    "#there are more parameters and more options for a DT classifier but for now we just use this much of the model's capacity\n",
    "GS= GridSearchCV(DT,parametr,cv=20,scoring='accuracy')\n",
    "#a point that has to be mentioned here is that we are not yet using the model but we are just using the grid search algorithm to find the best paramters for the model\n",
    "#Thus we don't fit the algorithm on X_train and Y_train because now we are just looking for the best paramteters and thus we fit it on the entier data (x,y)\n",
    "GS.fit(x,y)"
   ]
  },
  {
   "cell_type": "code",
   "execution_count": 41,
   "id": "a89d3e58",
   "metadata": {},
   "outputs": [
    {
     "data": {
      "text/plain": [
       "{'criterion': 'entropy',\n",
       " 'max_depth': 4,\n",
       " 'min_samples_leaf': 2,\n",
       " 'min_samples_split': 4}"
      ]
     },
     "execution_count": 41,
     "metadata": {},
     "output_type": "execute_result"
    }
   ],
   "source": [
    "#With this code we will see the best parameters for the DT classifier for our data given by the grid search algorithm\n",
    "GS.best_params_"
   ]
  },
  {
   "cell_type": "code",
   "execution_count": 43,
   "id": "c04f869a",
   "metadata": {},
   "outputs": [
    {
     "data": {
      "text/plain": [
       "0.8418840579710146"
      ]
     },
     "execution_count": 43,
     "metadata": {},
     "output_type": "execute_result"
    }
   ],
   "source": [
    "#This is the best score for our model, meaning the if we use the best parameters given above for our model we will get this level of accuracy\n",
    "GS.best_score_"
   ]
  },
  {
   "cell_type": "code",
   "execution_count": 44,
   "id": "27ae21a4",
   "metadata": {},
   "outputs": [
    {
     "data": {
      "text/html": [
       "<style>#sk-container-id-4 {color: black;background-color: white;}#sk-container-id-4 pre{padding: 0;}#sk-container-id-4 div.sk-toggleable {background-color: white;}#sk-container-id-4 label.sk-toggleable__label {cursor: pointer;display: block;width: 100%;margin-bottom: 0;padding: 0.3em;box-sizing: border-box;text-align: center;}#sk-container-id-4 label.sk-toggleable__label-arrow:before {content: \"▸\";float: left;margin-right: 0.25em;color: #696969;}#sk-container-id-4 label.sk-toggleable__label-arrow:hover:before {color: black;}#sk-container-id-4 div.sk-estimator:hover label.sk-toggleable__label-arrow:before {color: black;}#sk-container-id-4 div.sk-toggleable__content {max-height: 0;max-width: 0;overflow: hidden;text-align: left;background-color: #f0f8ff;}#sk-container-id-4 div.sk-toggleable__content pre {margin: 0.2em;color: black;border-radius: 0.25em;background-color: #f0f8ff;}#sk-container-id-4 input.sk-toggleable__control:checked~div.sk-toggleable__content {max-height: 200px;max-width: 100%;overflow: auto;}#sk-container-id-4 input.sk-toggleable__control:checked~label.sk-toggleable__label-arrow:before {content: \"▾\";}#sk-container-id-4 div.sk-estimator input.sk-toggleable__control:checked~label.sk-toggleable__label {background-color: #d4ebff;}#sk-container-id-4 div.sk-label input.sk-toggleable__control:checked~label.sk-toggleable__label {background-color: #d4ebff;}#sk-container-id-4 input.sk-hidden--visually {border: 0;clip: rect(1px 1px 1px 1px);clip: rect(1px, 1px, 1px, 1px);height: 1px;margin: -1px;overflow: hidden;padding: 0;position: absolute;width: 1px;}#sk-container-id-4 div.sk-estimator {font-family: monospace;background-color: #f0f8ff;border: 1px dotted black;border-radius: 0.25em;box-sizing: border-box;margin-bottom: 0.5em;}#sk-container-id-4 div.sk-estimator:hover {background-color: #d4ebff;}#sk-container-id-4 div.sk-parallel-item::after {content: \"\";width: 100%;border-bottom: 1px solid gray;flex-grow: 1;}#sk-container-id-4 div.sk-label:hover label.sk-toggleable__label {background-color: #d4ebff;}#sk-container-id-4 div.sk-serial::before {content: \"\";position: absolute;border-left: 1px solid gray;box-sizing: border-box;top: 0;bottom: 0;left: 50%;z-index: 0;}#sk-container-id-4 div.sk-serial {display: flex;flex-direction: column;align-items: center;background-color: white;padding-right: 0.2em;padding-left: 0.2em;position: relative;}#sk-container-id-4 div.sk-item {position: relative;z-index: 1;}#sk-container-id-4 div.sk-parallel {display: flex;align-items: stretch;justify-content: center;background-color: white;position: relative;}#sk-container-id-4 div.sk-item::before, #sk-container-id-4 div.sk-parallel-item::before {content: \"\";position: absolute;border-left: 1px solid gray;box-sizing: border-box;top: 0;bottom: 0;left: 50%;z-index: -1;}#sk-container-id-4 div.sk-parallel-item {display: flex;flex-direction: column;z-index: 1;position: relative;background-color: white;}#sk-container-id-4 div.sk-parallel-item:first-child::after {align-self: flex-end;width: 50%;}#sk-container-id-4 div.sk-parallel-item:last-child::after {align-self: flex-start;width: 50%;}#sk-container-id-4 div.sk-parallel-item:only-child::after {width: 0;}#sk-container-id-4 div.sk-dashed-wrapped {border: 1px dashed gray;margin: 0 0.4em 0.5em 0.4em;box-sizing: border-box;padding-bottom: 0.4em;background-color: white;}#sk-container-id-4 div.sk-label label {font-family: monospace;font-weight: bold;display: inline-block;line-height: 1.2em;}#sk-container-id-4 div.sk-label-container {text-align: center;}#sk-container-id-4 div.sk-container {/* jupyter's `normalize.less` sets `[hidden] { display: none; }` but bootstrap.min.css set `[hidden] { display: none !important; }` so we also need the `!important` here to be able to override the default hidden behavior on the sphinx rendered scikit-learn.org. See: https://github.com/scikit-learn/scikit-learn/issues/21755 */display: inline-block !important;position: relative;}#sk-container-id-4 div.sk-text-repr-fallback {display: none;}</style><div id=\"sk-container-id-4\" class=\"sk-top-container\"><div class=\"sk-text-repr-fallback\"><pre>DecisionTreeClassifier(criterion=&#x27;entropy&#x27;, max_depth=4, min_samples_leaf=2,\n",
       "                       min_samples_split=4)</pre><b>In a Jupyter environment, please rerun this cell to show the HTML representation or trust the notebook. <br />On GitHub, the HTML representation is unable to render, please try loading this page with nbviewer.org.</b></div><div class=\"sk-container\" hidden><div class=\"sk-item\"><div class=\"sk-estimator sk-toggleable\"><input class=\"sk-toggleable__control sk-hidden--visually\" id=\"sk-estimator-id-8\" type=\"checkbox\" checked><label for=\"sk-estimator-id-8\" class=\"sk-toggleable__label sk-toggleable__label-arrow\">DecisionTreeClassifier</label><div class=\"sk-toggleable__content\"><pre>DecisionTreeClassifier(criterion=&#x27;entropy&#x27;, max_depth=4, min_samples_leaf=2,\n",
       "                       min_samples_split=4)</pre></div></div></div></div></div>"
      ],
      "text/plain": [
       "DecisionTreeClassifier(criterion='entropy', max_depth=4, min_samples_leaf=2,\n",
       "                       min_samples_split=4)"
      ]
     },
     "execution_count": 44,
     "metadata": {},
     "output_type": "execute_result"
    }
   ],
   "source": [
    "GS.best_estimator_"
   ]
  },
  {
   "cell_type": "code",
   "execution_count": 47,
   "id": "9c5d5b80",
   "metadata": {},
   "outputs": [],
   "source": [
    "#Now we will use the parameters given by the grid search algorithm in our DT classifier model\n",
    "DT= DecisionTreeClassifier(criterion='entropy', max_depth=4, min_samples_leaf=2, min_samples_split=4)\n",
    "#Here we fit our model on our data and use it to predict\n",
    "DT.fit(X_train,y_train)\n",
    "pred=DT.predict(X_test)"
   ]
  },
  {
   "cell_type": "markdown",
   "id": "c1ecf7ff",
   "metadata": {},
   "source": [
    "# Model Evaluation\n",
    "\n",
    "Here we will test the performance of our model and see how well it has done based on metrics such as accuracy, recall score and..."
   ]
  },
  {
   "cell_type": "code",
   "execution_count": 60,
   "id": "5805b9fc",
   "metadata": {},
   "outputs": [
    {
     "name": "stdout",
     "output_type": "stream",
     "text": [
      "The accuracy of the model is  0.8623188405797102\n",
      "The recall score of the model is  0.896969696969697\n",
      "The precision score of the model is  0.8757396449704142\n",
      "The f1 score of the model is  0.8862275449101796\n"
     ]
    }
   ],
   "source": [
    "#Accuracy score checks the accuracy of our model\n",
    "acc=accuracy_score(y_test,pred)\n",
    "\n",
    "#Recall score is also known as sensitivity or the true positive rate, The higher the recall score, the better the machine learning model is at identifying both positive and negative examples.\n",
    "rec=recall_score(y_test,pred)\n",
    "\n",
    "#precision score measures the proportion of positively predicted labels that are actually correct. Precision is also known as the positive predictive value\n",
    "pre=precision_score(y_test,pred)\n",
    "\n",
    "#F1 score represents the model score as a function of precision and recall score.\n",
    "#F-score is a machine learning model performance metric that gives equal weight to both the Precision and Recall\n",
    "f1=f1_score(y_test,pred)\n",
    "print('The accuracy of the model is ',acc)\n",
    "print('The recall score of the model is ',rec)\n",
    "print('The precision score of the model is ',pre)\n",
    "print('The f1 score of the model is ',f1)"
   ]
  },
  {
   "cell_type": "code",
   "execution_count": 54,
   "id": "0596ef3a",
   "metadata": {},
   "outputs": [],
   "source": [
    "#For classification problems, one of the best metrics of evaluating the model is called Confusion matrix\n",
    "#In a Confusion matrix each row of the matrix represents the instances in an actual class while each column represents the instances in a predicted class, or vice versa\n",
    "#Here I will draw a Confusion matrix for the model to see how our model has done on the data:\n",
    "\n",
    "def plot_confusion_matrix(cm, classes,\n",
    "                          normalize=False,\n",
    "                          title='Confusion matrix',\n",
    "                          cmap=plt.cm.Blues):\n",
    "    \"\"\"\n",
    "    This function prints and plots the confusion matrix.\n",
    "    Normalization can be applied by setting `normalize=True`.\n",
    "    \"\"\"\n",
    "    if normalize:\n",
    "        cm = cm.astype('float') / cm.sum(axis=1)[:, np.newaxis]\n",
    "        print(\"Normalized confusion matrix\")\n",
    "    else:\n",
    "        print('Confusion matrix')\n",
    "\n",
    "    print(cm)\n",
    "\n",
    "    plt.imshow(cm, interpolation='nearest', cmap=cmap)\n",
    "    plt.title(title)\n",
    "    plt.colorbar()\n",
    "    tick_marks = np.arange(len(classes))\n",
    "    plt.xticks(tick_marks, classes, rotation=45)\n",
    "    plt.yticks(tick_marks, classes)\n",
    "\n",
    "    fmt = '.2f' if normalize else 'd'\n",
    "    thresh = cm.max() / 2.\n",
    "    for i, j in itertools.product(range(cm.shape[0]), range(cm.shape[1])):\n",
    "        plt.text(j, i, format(cm[i, j], fmt),\n",
    "                 horizontalalignment=\"center\",\n",
    "                 color=\"white\" if cm[i, j] > thresh else \"black\")\n",
    "\n",
    "    plt.tight_layout()\n",
    "    plt.ylabel('True label')\n",
    "    plt.xlabel('Predicted label')"
   ]
  },
  {
   "cell_type": "code",
   "execution_count": 57,
   "id": "16ec81ac",
   "metadata": {},
   "outputs": [
    {
     "name": "stdout",
     "output_type": "stream",
     "text": [
      "Confusion matrix\n",
      "[[ 90  21]\n",
      " [ 17 148]]\n"
     ]
    },
    {
     "data": {
      "image/png": "[encoded data removed]",
      "text/plain": [
       "<Figure size 640x480 with 2 Axes>"
      ]
     },
     "metadata": {},
     "output_type": "display_data"
    }
   ],
   "source": [
    "# Compute confusion matrix\n",
    "cnf_matrix = confusion_matrix(y_test, pred, labels=[0,1])\n",
    "np.set_printoptions(precision=2)\n",
    "plt.figure()\n",
    "plot_confusion_matrix(cnf_matrix, classes=['Do Not Have Heart Diseas (0)','Do Have Heart Disease(1)'],normalize= False,  title='Confusion matrix')"
   ]
  },
  {
   "cell_type": "markdown",
   "id": "c62e1761",
   "metadata": {},
   "source": [
    "# Conclusion\n",
    "\n",
    "In this lab we tried to build a Decision tree model to predict heart diseases with the given dataset. We made some modifications so that it better fits our model and also analyzed the data to get a better intuition of our data. I also used the grid search algorithm for fine tunning and hyperparameter optimization of the model. Finally i evaluated the model with standard well-known classifiction model metrics such as f1 score and Confusion matrix."
   ]
  },
  {
   "cell_type": "markdown",
   "id": "9fcf2f92",
   "metadata": {},
   "source": [
    "# Refrences\n",
    "\n",
    "Note that I have used codes and peices of information from other sources in this lab such as IBM, Andrew NG, Coursera platform, Wikipedia website and the https://vitalflux.com/ website."
   ]
  },
  {
   "cell_type": "code",
   "execution_count": null,
   "id": "a934527d",
   "metadata": {},
   "outputs": [],
   "source": []
  }
 ],
 "metadata": {
  "kernelspec": {
   "display_name": "Python 3 (ipykernel)",
   "language": "python",
   "name": "python3"
  },
  "language_info": {
   "codemirror_mode": {
    "name": "ipython",
    "version": 3
   },
   "file_extension": ".py",
   "mimetype": "text/x-python",
   "name": "python",
   "nbconvert_exporter": "python",
   "pygments_lexer": "ipython3",
   "version": "3.10.9"
  }
 },
 "nbformat": 4,
 "nbformat_minor": 5
}
